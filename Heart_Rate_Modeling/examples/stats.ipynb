{
 "cells": [
  {
   "cell_type": "code",
   "execution_count": 1,
   "metadata": {},
   "outputs": [],
   "source": [
    "import torch\n",
    "import torch.nn as nn\n",
    "import torch.optim as optim\n",
    "import pandas as pd\n",
    "import numpy as np\n",
    "from sklearn.model_selection import train_test_split\n",
    "from sklearn.metrics import mean_squared_error, mean_absolute_error, r2_score\n",
    "from tqdm import tqdm\n",
    "import os\n",
    "import dataclasses\n",
    "import sys\n",
    "import ast\n",
    "\n",
    "# Add the project root directory to the system path\n",
    "sys.path.append(os.path.abspath(os.path.join(os.getcwd(), '..')))\n",
    "\n",
    "# Import custom modules\n",
    "from Model.modules_lstm import LSTMEncoder\n",
    "from Model.modules_dense_nn import DenseNN, PersonalizedScalarNN\n",
    "from Model.dbn import DBNModel, DBNConfig\n",
    "from Model.data import WorkoutDataset, WorkoutDatasetConfig, make_dataloaders\n",
    "from Model.trainer import Trainer\n"
   ]
  },
  {
   "cell_type": "code",
   "execution_count": 2,
   "metadata": {},
   "outputs": [],
   "source": [
    "import dataclasses\n",
    "import pandas as pd\n",
    "\n",
    "df = pd.read_feather(\"../output/endomondo.feather\")\n",
    "df_tmp = df"
   ]
  },
  {
   "cell_type": "code",
   "execution_count": 3,
   "metadata": {},
   "outputs": [
    {
     "data": {
      "text/plain": [
       "Index(['time_grid', 'heart_rate', 'speed_h', 'speed_v', 'userId', 'id',\n",
       "       'distance', 'start_dt', 'end_dt', 'heart_rate_normalized', 'in_train',\n",
       "       'subject_idx'],\n",
       "      dtype='object')"
      ]
     },
     "execution_count": 3,
     "metadata": {},
     "output_type": "execute_result"
    }
   ],
   "source": [
    "df.columns"
   ]
  },
  {
   "cell_type": "code",
   "execution_count": 4,
   "metadata": {},
   "outputs": [
    {
     "name": "stdout",
     "output_type": "stream",
     "text": [
      "Total number of users: 558\n",
      "Total number of workouts: 38323\n",
      "Average horizontal speed per workout: 2.95 m/s\n",
      "Average vertical speed per workout: -0.00 m/s\n",
      "Average heart rate per workout: 149.97 BPM\n",
      "Maximum heart rate per workout: 168.04 BPM\n",
      "Average workout duration: 48.54 minutes\n",
      "Average total distance covered per workout: 8554.33 meters\n",
      "Workout frequency per user: 68.68\n",
      "Average normalized heart rate: 0.36\n",
      "Workouts in training set: 30430\n",
      "Workouts not in training set: 7893\n"
     ]
    }
   ],
   "source": [
    "import pandas as pd\n",
    "import numpy as np\n",
    "\n",
    "# Assuming 'df_tmp' is your loaded DataFrame containing the workout data\n",
    "\n",
    "# 1. Total number of unique users\n",
    "total_users = df_tmp['userId'].nunique()\n",
    "\n",
    "# 2. Total number of workouts\n",
    "total_workouts = df_tmp['id'].nunique()\n",
    "\n",
    "# 3. Average horizontal and vertical speed per workout\n",
    "df_tmp['avg_speed_h'] = df_tmp['speed_h'].apply(np.mean)\n",
    "df_tmp['avg_speed_v'] = df_tmp['speed_v'].apply(np.mean)\n",
    "average_speed_h = df_tmp['avg_speed_h'].mean()\n",
    "average_speed_v = df_tmp['avg_speed_v'].mean()\n",
    "\n",
    "# 4. Average and maximum heart rate per workout\n",
    "df_tmp['avg_heart_rate'] = df_tmp['heart_rate'].apply(np.mean)\n",
    "df_tmp['max_heart_rate'] = df_tmp['heart_rate'].apply(np.max)\n",
    "average_heart_rate = df_tmp['avg_heart_rate'].mean()\n",
    "max_heart_rate = df_tmp['max_heart_rate'].mean()\n",
    "\n",
    "# 5. Average workout duration in minutes\n",
    "df_tmp['workout_duration'] = (pd.to_datetime(df_tmp['end_dt']) - pd.to_datetime(df_tmp['start_dt'])).dt.total_seconds() / 60\n",
    "average_duration = df_tmp['workout_duration'].mean()\n",
    "\n",
    "# 6. Total distance covered per workout\n",
    "df_tmp['total_distance'] = df_tmp['distance'].apply(lambda x: x[-1] if len(x) > 0 else np.nan)\n",
    "average_total_distance = df_tmp['total_distance'].mean()\n",
    "\n",
    "# 7. Workout frequency per user\n",
    "workout_frequency_per_user = df_tmp.groupby('userId')['id'].count().mean()\n",
    "\n",
    "# 8. Average normalized heart rate\n",
    "average_normalized_hr = df_tmp['heart_rate_normalized'].apply(np.mean).mean()\n",
    "\n",
    "# 9. Distribution of workouts in training vs. testing sets\n",
    "workouts_in_train = df_tmp['in_train'].sum()\n",
    "workouts_not_in_train = len(df_tmp) - workouts_in_train\n",
    "\n",
    "# Display the calculated statistics\n",
    "print(f\"Total number of users: {total_users}\")\n",
    "print(f\"Total number of workouts: {total_workouts}\")\n",
    "print(f\"Average horizontal speed per workout: {average_speed_h:.2f} m/s\")\n",
    "print(f\"Average vertical speed per workout: {average_speed_v:.2f} m/s\")\n",
    "print(f\"Average heart rate per workout: {average_heart_rate:.2f} BPM\")\n",
    "print(f\"Maximum heart rate per workout: {max_heart_rate:.2f} BPM\")\n",
    "print(f\"Average workout duration: {average_duration:.2f} minutes\")\n",
    "print(f\"Average total distance covered per workout: {average_total_distance:.2f} meters\")\n",
    "print(f\"Workout frequency per user: {workout_frequency_per_user:.2f}\")\n",
    "print(f\"Average normalized heart rate: {average_normalized_hr:.2f}\")\n",
    "print(f\"Workouts in training set: {workouts_in_train}\")\n",
    "print(f\"Workouts not in training set: {workouts_not_in_train}\")\n"
   ]
  }
 ],
 "metadata": {
  "kernelspec": {
   "display_name": "Exp-py38",
   "language": "python",
   "name": "experiments"
  },
  "language_info": {
   "codemirror_mode": {
    "name": "ipython",
    "version": 3
   },
   "file_extension": ".py",
   "mimetype": "text/x-python",
   "name": "python",
   "nbconvert_exporter": "python",
   "pygments_lexer": "ipython3",
   "version": "3.8.19"
  }
 },
 "nbformat": 4,
 "nbformat_minor": 2
}
